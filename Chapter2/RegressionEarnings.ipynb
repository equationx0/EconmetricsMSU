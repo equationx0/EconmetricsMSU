{
 "cells": [
  {
   "cell_type": "code",
   "execution_count": 34,
   "id": "1691e683-af0b-4afa-96fd-9ca13aa6a15a",
   "metadata": {},
   "outputs": [
    {
     "name": "stdout",
     "output_type": "stream",
     "text": [
      "Model: EARNINGS ~ EXP\n",
      "\n",
      "                            OLS Regression Results                            \n",
      "==============================================================================\n",
      "Dep. Variable:               EARNINGS   R-squared:                       0.006\n",
      "Model:                            OLS   Adj. R-squared:                  0.004\n",
      "Method:                 Least Squares   F-statistic:                     2.983\n",
      "Date:                Fri, 07 Feb 2025   Prob (F-statistic):             0.0847\n",
      "Time:                        20:25:11   Log-Likelihood:                -2205.1\n",
      "No. Observations:                 540   AIC:                             4414.\n",
      "Df Residuals:                     538   BIC:                             4423.\n",
      "Df Model:                           1                                         \n",
      "Covariance Type:            nonrobust                                         \n",
      "==============================================================================\n",
      "                 coef    std err          t      P>|t|      [0.025      0.975]\n",
      "------------------------------------------------------------------------------\n",
      "Intercept     15.5553      2.442      6.369      0.000      10.757      20.353\n",
      "EXP            0.2415      0.140      1.727      0.085      -0.033       0.516\n",
      "==============================================================================\n",
      "Omnibus:                      383.741   Durbin-Watson:                   1.818\n",
      "Prob(Omnibus):                  0.000   Jarque-Bera (JB):             5010.014\n",
      "Skew:                           3.041   Prob(JB):                         0.00\n",
      "Kurtosis:                      16.627   Cond. No.                         69.1\n",
      "==============================================================================\n",
      "\n",
      "Notes:\n",
      "[1] Standard Errors assume that the covariance matrix of the errors is correctly specified.\n",
      "\n",
      "\n",
      "Model: EARNINGS ~ S\n",
      "\n",
      "                            OLS Regression Results                            \n",
      "==============================================================================\n",
      "Dep. Variable:               EARNINGS   R-squared:                       0.172\n",
      "Model:                            OLS   Adj. R-squared:                  0.171\n",
      "Method:                 Least Squares   F-statistic:                     112.1\n",
      "Date:                Fri, 07 Feb 2025   Prob (F-statistic):           6.22e-24\n",
      "Time:                        20:25:11   Log-Likelihood:                -2155.5\n",
      "No. Observations:                 540   AIC:                             4315.\n",
      "Df Residuals:                     538   BIC:                             4324.\n",
      "Df Model:                           1                                         \n",
      "Covariance Type:            nonrobust                                         \n",
      "==============================================================================\n",
      "                 coef    std err          t      P>|t|      [0.025      0.975]\n",
      "------------------------------------------------------------------------------\n",
      "Intercept    -13.9335      3.220     -4.327      0.000     -20.258      -7.608\n",
      "S              2.4553      0.232     10.590      0.000       2.000       2.911\n",
      "==============================================================================\n",
      "Omnibus:                      393.260   Durbin-Watson:                   1.763\n",
      "Prob(Omnibus):                  0.000   Jarque-Bera (JB):             6301.365\n",
      "Skew:                           3.056   Prob(JB):                         0.00\n",
      "Kurtosis:                      18.579   Cond. No.                         79.6\n",
      "==============================================================================\n",
      "\n",
      "Notes:\n",
      "[1] Standard Errors assume that the covariance matrix of the errors is correctly specified.\n"
     ]
    }
   ],
   "source": [
    "import pandas as pd\n",
    "import statsmodels.formula.api as smf\n",
    "\n",
    "#Импорт данных,преобразуйте exel файл в csv\n",
    "data = pd.read_csv('Earnings.csv')\n",
    "\n",
    "#Зависимость от стажа (EXP)\n",
    "model_EXP = smf.ols('EARNINGS ~ EXP', data=data).fit()\n",
    "#Зависимость от продолжительнсоти обучения\n",
    "model_S = smf.ols('EARNINGS ~ S', data=data).fit()\n",
    "# вывод результатов модели линейной регрессии \n",
    "print(\"Model: EARNINGS ~ EXP\\n\") \n",
    "print(model_EXP.summary())  \n",
    "print(\"\\n\")\n",
    "print(\"Model: EARNINGS ~ S\\n\")\n",
    "print(model_S.summary()) \n",
    "\n",
    "                            \n",
    "\n",
    "\n"
   ]
  }
 ],
 "metadata": {
  "kernelspec": {
   "display_name": "Python 3 (ipykernel)",
   "language": "python",
   "name": "python3"
  },
  "language_info": {
   "codemirror_mode": {
    "name": "ipython",
    "version": 3
   },
   "file_extension": ".py",
   "mimetype": "text/x-python",
   "name": "python",
   "nbconvert_exporter": "python",
   "pygments_lexer": "ipython3",
   "version": "3.12.4"
  }
 },
 "nbformat": 4,
 "nbformat_minor": 5
}
