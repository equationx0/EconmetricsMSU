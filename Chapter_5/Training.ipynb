{
 "cells": [
  {
   "cell_type": "code",
   "execution_count": 27,
   "id": "7b836ac2-8e27-4e0d-b969-0c03eaf945cc",
   "metadata": {
    "scrolled": true
   },
   "outputs": [
    {
     "name": "stdout",
     "output_type": "stream",
     "text": [
      "                            OLS Regression Results                            \n",
      "==============================================================================\n",
      "Dep. Variable:                  sales   R-squared:                       0.320\n",
      "Model:                            OLS   Adj. R-squared:                  0.318\n",
      "Method:                 Least Squares   F-statistic:                     180.6\n",
      "Date:                Mon, 24 Mar 2025   Prob (F-statistic):          7.03e-159\n",
      "Time:                        03:33:52   Log-Likelihood:                -9998.1\n",
      "No. Observations:                2000   AIC:                         2.001e+04\n",
      "Df Residuals:                    1994   BIC:                         2.004e+04\n",
      "Df Model:                           5                                         \n",
      "Covariance Type:                  HC1                                         \n",
      "==============================================================================\n",
      "                 coef    std err          t      P>|t|      [0.025      0.975]\n",
      "------------------------------------------------------------------------------\n",
      "Intercept    -24.3731      6.707     -3.634      0.000     -37.527     -11.219\n",
      "training      18.8678      1.818     10.381      0.000      15.303      22.432\n",
      "female         0.3928      1.758      0.223      0.823      -3.056       3.841\n",
      "experience     5.3006      0.570      9.307      0.000       4.184       6.418\n",
      "capital        3.2957      1.609      2.048      0.041       0.140       6.452\n",
      "IQ             1.7288      0.065     26.709      0.000       1.602       1.856\n",
      "==============================================================================\n",
      "Omnibus:                      130.665   Durbin-Watson:                   2.066\n",
      "Prob(Omnibus):                  0.000   Jarque-Bera (JB):              175.149\n",
      "Skew:                           0.577   Prob(JB):                     9.27e-39\n",
      "Kurtosis:                       3.878   Cond. No.                         885.\n",
      "==============================================================================\n",
      "\n",
      "Notes:\n",
      "[1] Standard Errors are heteroscedasticity robust (HC1)\n",
      "\n",
      "Интерпретация:\n",
      "Коэффициент при training: 18.867836729209323\n",
      "p-value для training: 1.2725655126460104e-24\n",
      "Тест Бреуша-Пагана: LM=0.000, p-value=0.000\n",
      "Тест Уайта: LM=0.000, p-value=0.000\n"
     ]
    }
   ],
   "source": [
    "import pandas as pd\n",
    "import statsmodels.formula.api as smf\n",
    "from statsmodels.stats.diagnostic import het_breuschpagan, het_white\n",
    "# Загрузка данных\n",
    "data = pd.read_csv(\"Training.csv\")\n",
    "\n",
    "# Спецификация и оценка модели\n",
    "model = smf.ols(\n",
    "    formula='sales ~ training + female + experience + capital + IQ',\n",
    "    data=data\n",
    ").fit()\n",
    "\n",
    "\n",
    "# Добавляем робастные стандартные ошибки HC1\n",
    "robust_model = model.get_robustcov_results(cov_type='HC1')\\\n",
    "\n",
    "# Вывод результатов с робастными ошибками\n",
    "print(robust_model.summary())\n",
    "\n",
    "# Интерпретация ключевых результатов\n",
    "print(\"\\nИнтерпретация:\")\n",
    "print(\"Коэффициент при training:\", robust_model.params[1])\n",
    "print(\"p-value для training:\", robust_model.pvalues[1])\n",
    "# Тест Бреуша-Пагана\n",
    "bp_test = het_breuschpagan(model.resid, model.model.exog)\n",
    "print(f\"Тест Бреуша-Пагана: LM={bp_test[0]:.3f}, p-value={bp_test[1]:.3f}\")\n",
    "\n",
    "# Тест Уайта\n",
    "white_test = het_white(model.resid, model.model.exog)\n",
    "print(f\"Тест Уайта: LM={white_test[0]:.3f}, p-value={white_test[1]:.3f}\")\n",
    "#Значение p-value = 0.000 означает, что вероятность получить такие экстремальные результаты теста при условии гомоскедастичности стремится к нулю"
   ]
  }
 ],
 "metadata": {
  "kernelspec": {
   "display_name": "Python 3 (ipykernel)",
   "language": "python",
   "name": "python3"
  },
  "language_info": {
   "codemirror_mode": {
    "name": "ipython",
    "version": 3
   },
   "file_extension": ".py",
   "mimetype": "text/x-python",
   "name": "python",
   "nbconvert_exporter": "python",
   "pygments_lexer": "ipython3",
   "version": "3.12.4"
  }
 },
 "nbformat": 4,
 "nbformat_minor": 5
}
